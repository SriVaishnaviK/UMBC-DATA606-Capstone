{
 "cells": [
  {
   "cell_type": "code",
   "execution_count": null,
   "id": "288623b2",
   "metadata": {},
   "outputs": [],
   "source": [
    "import pandas as pd\n",
    "import matplotlib.pyplot as plt\n",
    "import seaborn as sns\n",
    "import folium\n",
    "from folium.plugins import MarkerCluster\n",
    "import reverse_geocoder as rg\n",
    "import plotly.express as px"
   ]
  },
  {
   "cell_type": "code",
   "execution_count": null,
   "id": "d5606567",
   "metadata": {},
   "outputs": [],
   "source": [
    "df = pd.read_csv('data.csv',index_col=0)\n"
   ]
  },
  {
   "cell_type": "code",
   "execution_count": null,
   "id": "addb87f6",
   "metadata": {},
   "outputs": [],
   "source": [
    "df.size"
   ]
  },
  {
   "cell_type": "code",
   "execution_count": null,
   "id": "3a95fb45",
   "metadata": {},
   "outputs": [],
   "source": [
    "df.shape"
   ]
  },
  {
   "cell_type": "code",
   "execution_count": null,
   "id": "7d33961b",
   "metadata": {},
   "outputs": [],
   "source": [
    "df.info()\n"
   ]
  },
  {
   "cell_type": "code",
   "execution_count": null,
   "id": "e004ed6a",
   "metadata": {},
   "outputs": [],
   "source": [
    "df.head()\n"
   ]
  },
  {
   "cell_type": "code",
   "execution_count": null,
   "id": "68fa20e2",
   "metadata": {},
   "outputs": [],
   "source": [
    "df.describe()\n"
   ]
  },
  {
   "cell_type": "markdown",
   "id": "9e45e34a",
   "metadata": {},
   "source": [
    "### Data Preprocessing"
   ]
  },
  {
   "cell_type": "code",
   "execution_count": null,
   "id": "d70b9e1f",
   "metadata": {},
   "outputs": [],
   "source": [
    "#checking for missing values\n",
    "df.isnull().sum()"
   ]
  },
  {
   "cell_type": "code",
   "execution_count": null,
   "id": "60f9e844",
   "metadata": {},
   "outputs": [],
   "source": [
    "duplicate_rows = df[df.duplicated()]\n",
    "print(\"Duplicate Rows:\")\n",
    "print(duplicate_rows)"
   ]
  },
  {
   "cell_type": "code",
   "execution_count": null,
   "id": "8fde45a2",
   "metadata": {},
   "outputs": [],
   "source": [
    "df['bathrooms'] = df['bathrooms'].astype(int)\n",
    "df['floors'] = df['floors'].astype(int)\n",
    "df['price'] = df['price'].astype(int)\n"
   ]
  },
  {
   "cell_type": "code",
   "execution_count": null,
   "id": "dfad4f9d",
   "metadata": {},
   "outputs": [],
   "source": [
    "df['date'] = pd.to_datetime(df['date'])"
   ]
  },
  {
   "cell_type": "code",
   "execution_count": null,
   "id": "8765e8b1",
   "metadata": {},
   "outputs": [],
   "source": [
    "df.head(5)"
   ]
  },
  {
   "cell_type": "code",
   "execution_count": null,
   "id": "a819608f",
   "metadata": {},
   "outputs": [],
   "source": [
    "import pandas as pd\n",
    "\n",
    "# Assuming df is your DataFrame\n",
    "df = df.drop('id', axis=1)\n"
   ]
  },
  {
   "cell_type": "code",
   "execution_count": null,
   "id": "5b6f0082",
   "metadata": {},
   "outputs": [],
   "source": [
    "df['bedrooms'].unique()"
   ]
  },
  {
   "cell_type": "markdown",
   "id": "389567f6",
   "metadata": {},
   "source": [
    "## Exploratory Data Analysis\n"
   ]
  },
  {
   "cell_type": "markdown",
   "id": "ba4a4c83",
   "metadata": {},
   "source": [
    "### Frequency Distribution of Traget(Price)"
   ]
  },
  {
   "cell_type": "code",
   "execution_count": null,
   "id": "cab71ee7",
   "metadata": {},
   "outputs": [],
   "source": [
    "plt.figure(figsize=(10, 6))\n",
    "sns.histplot(df['price'], bins=50, kde=True)\n",
    "plt.title('Distribution of Prices')\n",
    "plt.xlabel('Price')\n",
    "plt.xlim(0, 4000000)  \n",
    "plt.show()\n",
    "\n"
   ]
  },
  {
   "cell_type": "markdown",
   "id": "c0d85ce6",
   "metadata": {},
   "source": [
    "### A Base Map Indicating the locations of houses from dataset"
   ]
  },
  {
   "cell_type": "code",
   "execution_count": null,
   "id": "46e1b9a9",
   "metadata": {
    "scrolled": false
   },
   "outputs": [],
   "source": [
    "\n",
    "map_center = [df['lat'].mean(), df['long'].mean()]\n",
    "base_map = folium.Map(location=map_center, zoom_start=10)\n",
    "\n",
    "markerCluster = MarkerCluster().add_to(base_map)\n",
    "for index, row in df.iterrows():\n",
    "    folium.Marker([row['lat'], row['long']], popup=f\"Zipcode: {row['zipcode']}\").add_to(markerCluster)\n",
    "\n",
    "base_map\n"
   ]
  },
  {
   "cell_type": "markdown",
   "id": "04846b50",
   "metadata": {},
   "source": [
    "### Function to obtain the location of house from given latitude and Longitude values(Feature Engineering)"
   ]
  },
  {
   "cell_type": "code",
   "execution_count": null,
   "id": "8f9aca5f",
   "metadata": {},
   "outputs": [],
   "source": [
    "\n",
    "def location(lat, lon):\n",
    "    result = rg.search((lat, lon), mode=1)\n",
    "    if result:\n",
    "        return result[0]['name']\n",
    "    else:\n",
    "        return \"Unknown\"\n",
    "\n",
    "df['location'] = df.apply(lambda row: location(row['lat'], row['long']), axis=1)\n",
    "df.head()\n"
   ]
  },
  {
   "cell_type": "markdown",
   "id": "405eebb8",
   "metadata": {},
   "source": [
    "### Average House prices by their location"
   ]
  },
  {
   "cell_type": "code",
   "execution_count": null,
   "id": "6c78013f",
   "metadata": {},
   "outputs": [],
   "source": [
    "avg_priceByLoc = df.groupby('location')['price'].mean().reset_index()\n",
    "avg_priceByLoc = avg_priceByLoc.sort_values(by='price', ascending=False)\n",
    "\n",
    "\n",
    "plt.figure(figsize=(20, 15))\n",
    "sns.barplot(data=avg_priceByLoc, x='location', y='price', palette='viridis')\n",
    "plt.title('Average House Prices by location')\n",
    "plt.xlabel('location')\n",
    "plt.ylabel('Average Price')\n",
    "plt.xticks(rotation=45, ha='right')\n",
    "plt.show()\n"
   ]
  },
  {
   "cell_type": "markdown",
   "id": "3730098b",
   "metadata": {},
   "source": [
    "### Top 10 locations with the highest prices"
   ]
  },
  {
   "cell_type": "code",
   "execution_count": null,
   "id": "d6f23d19",
   "metadata": {},
   "outputs": [],
   "source": [
    "top10Loc= avg_priceByLoc.head(10)\n",
    "\n",
    "\n",
    "fig = px.bar(top10Loc, x='location', y='price', \n",
    "             title='Average House Prices by Location (Top 10)',\n",
    "             labels={'location': 'Location', 'price': 'Average Price'},\n",
    "            color='location')\n",
    "fig.update_layout(xaxis_tickangle=-45, xaxis_title=None, yaxis_title='Average Price')\n",
    "fig.show()\n"
   ]
  },
  {
   "cell_type": "code",
   "execution_count": null,
   "id": "f7118eae",
   "metadata": {},
   "outputs": [],
   "source": [
    "df['yr_built'].unique()"
   ]
  },
  {
   "cell_type": "markdown",
   "id": "64856b2f",
   "metadata": {},
   "source": [
    "### Price Vs Year"
   ]
  },
  {
   "cell_type": "code",
   "execution_count": null,
   "id": "48de7a2e",
   "metadata": {},
   "outputs": [],
   "source": [
    "plt.figure(figsize=(10, 6))\n",
    "sns.lineplot(df['yr_built'], df['price'], alpha=0.5)\n",
    "plt.title('Relation between Year Built and Price')\n",
    "plt.xlabel('Year Built')\n",
    "plt.ylabel('Price')\n",
    "plt.grid(True)\n",
    "plt.show()\n"
   ]
  },
  {
   "cell_type": "markdown",
   "id": "dc780bf4",
   "metadata": {},
   "source": [
    "### Comparison of Price with Waterfront and View\n"
   ]
  },
  {
   "cell_type": "code",
   "execution_count": null,
   "id": "0e74e41c",
   "metadata": {
    "scrolled": false
   },
   "outputs": [],
   "source": [
    "\n",
    "fig, axes = plt.subplots(nrows=1, ncols=2, figsize=(12, 5))\n",
    "\n",
    "sns.barplot(data=df, x='waterfront', y='price', ax=axes[0])\n",
    "axes[0].set_title('Relation between Waterfront and Price')\n",
    "axes[0].set_xlabel('Waterfront')\n",
    "axes[0].set_ylabel('Price')\n",
    "\n",
    "sns.barplot(data=df, x='view', y='price', ax=axes[1])\n",
    "axes[1].set_title('Relation between View and Price')\n",
    "axes[1].set_xlabel('View')\n",
    "axes[1].set_ylabel('Price')\n",
    "plt.tight_layout()\n",
    "plt.show()\n",
    "\n"
   ]
  },
  {
   "cell_type": "markdown",
   "id": "2e365aa6",
   "metadata": {},
   "source": [
    "### ComparingConstruction Grade and Property Condition with Prices"
   ]
  },
  {
   "cell_type": "code",
   "execution_count": null,
   "id": "1f64a25e",
   "metadata": {},
   "outputs": [],
   "source": [
    "construction_grade_stats = df['grade'].describe()\n",
    "property_condition_stats = df['condition'].describe()\n",
    "house_price_stats = df['price'].describe()\n",
    "\n",
    "# Plot Construction Grade vs. House Prices\n",
    "plt.figure(figsize=(10, 6))\n",
    "sns.lineplot(data=df, x='grade', y='price')\n",
    "plt.title('Construction Grade vs. House Prices')\n",
    "plt.xlabel('Construction Grade')\n",
    "plt.ylabel('House Price')\n",
    "plt.ylim(0)  # Set y-axis limit to start from 0\n",
    "plt.show()\n",
    "\n",
    "\n",
    "\n",
    "\n",
    "\n"
   ]
  },
  {
   "cell_type": "code",
   "execution_count": null,
   "id": "d2a854cb",
   "metadata": {},
   "outputs": [],
   "source": [
    "plt.figure(figsize=(10, 6))\n",
    "sns.lineplot(data=df, x='condition', y='price')\n",
    "plt.title('Property Condition vs. House Prices')\n",
    "plt.xlabel('Property Condition')\n",
    "plt.ylabel('House Price')\n",
    "plt.ylim(0) \n",
    "plt.xticks([1, 2, 3,4,5])\n",
    "plt.show()\n"
   ]
  },
  {
   "cell_type": "markdown",
   "id": "8cd8bdde",
   "metadata": {},
   "source": [
    "### Prics Vs Floors"
   ]
  },
  {
   "cell_type": "code",
   "execution_count": null,
   "id": "1a5d6776",
   "metadata": {},
   "outputs": [],
   "source": [
    "plt.figure(figsize=(10, 6))\n",
    "sns.lineplot(data=df, x='floors', y='price')\n",
    "plt.yscale('log')\n",
    "plt.title('Price vs. Floors')\n",
    "plt.xlabel('Floors')\n",
    "plt.ylabel('Price')\n",
    "plt.xticks([1, 2, 3])\n",
    "plt.show()"
   ]
  },
  {
   "cell_type": "markdown",
   "id": "ca14e2f9",
   "metadata": {},
   "source": [
    "### Prices Ranges categorized by bedrooms"
   ]
  },
  {
   "cell_type": "code",
   "execution_count": null,
   "id": "2bf1eca9",
   "metadata": {
    "scrolled": true
   },
   "outputs": [],
   "source": [
    "fig = px.histogram(df, x='price', color='bedrooms', barmode='overlay',\n",
    "                   labels={'price': 'Price', 'bedrooms': 'Number of Bedrooms'},\n",
    "                   title='Price Distribution by Number of Bedrooms')\n",
    "\n",
    "fig.update_xaxes(range=[0, df['price'].quantile(0.95)])  \n",
    "fig.update_layout(xaxis_title='Price', yaxis_title='Frequency',\n",
    "                  height=400, width=600) \n",
    "\n"
   ]
  },
  {
   "cell_type": "code",
   "execution_count": null,
   "id": "d5025b2a",
   "metadata": {},
   "outputs": [],
   "source": [
    "df.to_csv('dataframe_final.csv', index=False)\n"
   ]
  }
 ],
 "metadata": {
  "kernelspec": {
   "display_name": "Python 3 (ipykernel)",
   "language": "python",
   "name": "python3"
  },
  "language_info": {
   "codemirror_mode": {
    "name": "ipython",
    "version": 3
   },
   "file_extension": ".py",
   "mimetype": "text/x-python",
   "name": "python",
   "nbconvert_exporter": "python",
   "pygments_lexer": "ipython3",
   "version": "3.9.12"
  }
 },
 "nbformat": 4,
 "nbformat_minor": 5
}
